{
 "cells": [
  {
   "cell_type": "code",
   "execution_count": 3,
   "id": "8d4b2382",
   "metadata": {},
   "outputs": [],
   "source": [
    "import pandas as pd\n",
    "import numpy as np\n",
    "import matplotlib.pyplot as plt\n",
    "import seaborn as sns\n",
    "%matplotlib inline\n",
    "\n",
    "import warnings\n",
    "warnings.filterwarnings('ignore')"
   ]
  },
  {
   "cell_type": "code",
   "execution_count": 13,
   "id": "59e01801",
   "metadata": {},
   "outputs": [
    {
     "data": {
      "text/html": [
       "<div>\n",
       "<style scoped>\n",
       "    .dataframe tbody tr th:only-of-type {\n",
       "        vertical-align: middle;\n",
       "    }\n",
       "\n",
       "    .dataframe tbody tr th {\n",
       "        vertical-align: top;\n",
       "    }\n",
       "\n",
       "    .dataframe thead th {\n",
       "        text-align: right;\n",
       "    }\n",
       "</style>\n",
       "<table border=\"1\" class=\"dataframe\">\n",
       "  <thead>\n",
       "    <tr style=\"text-align: right;\">\n",
       "      <th></th>\n",
       "      <th>Unnamed: 0</th>\n",
       "      <th>Job Title</th>\n",
       "      <th>Salary Estimate</th>\n",
       "      <th>Job Description</th>\n",
       "      <th>Rating</th>\n",
       "      <th>Company Name</th>\n",
       "      <th>Location</th>\n",
       "      <th>Headquarters</th>\n",
       "      <th>Size</th>\n",
       "      <th>Founded</th>\n",
       "      <th>Type of ownership</th>\n",
       "      <th>Industry</th>\n",
       "      <th>Sector</th>\n",
       "      <th>Revenue</th>\n",
       "      <th>Competitors</th>\n",
       "    </tr>\n",
       "  </thead>\n",
       "  <tbody>\n",
       "    <tr>\n",
       "      <th>953</th>\n",
       "      <td>953</td>\n",
       "      <td>Data Science Manager</td>\n",
       "      <td>$95K-$160K (Glassdoor est.)</td>\n",
       "      <td>Data Science ManagerResponsibilities:\\n\\nOvers...</td>\n",
       "      <td>3.2</td>\n",
       "      <td>Numeric, LLC\\n3.2</td>\n",
       "      <td>Allentown, PA</td>\n",
       "      <td>Chadds Ford, PA</td>\n",
       "      <td>1 to 50 employees</td>\n",
       "      <td>-1</td>\n",
       "      <td>Company - Private</td>\n",
       "      <td>Staffing &amp; Outsourcing</td>\n",
       "      <td>Business Services</td>\n",
       "      <td>$5 to $10 million (USD)</td>\n",
       "      <td>-1</td>\n",
       "    </tr>\n",
       "    <tr>\n",
       "      <th>954</th>\n",
       "      <td>954</td>\n",
       "      <td>Data Engineer</td>\n",
       "      <td>-1</td>\n",
       "      <td>Loading...\\n\\nTitle: Data Engineer\\n\\nLocation...</td>\n",
       "      <td>4.8</td>\n",
       "      <td>IGNW\\n4.8</td>\n",
       "      <td>Austin, TX</td>\n",
       "      <td>Portland, OR</td>\n",
       "      <td>201 to 500 employees</td>\n",
       "      <td>2015</td>\n",
       "      <td>Company - Private</td>\n",
       "      <td>IT Services</td>\n",
       "      <td>Information Technology</td>\n",
       "      <td>$25 to $50 million (USD)</td>\n",
       "      <td>Slalom</td>\n",
       "    </tr>\n",
       "    <tr>\n",
       "      <th>955</th>\n",
       "      <td>955</td>\n",
       "      <td>Research Scientist – Security and Privacy</td>\n",
       "      <td>$61K-$126K (Glassdoor est.)</td>\n",
       "      <td>Returning Candidate? Log back in to the Career...</td>\n",
       "      <td>3.6</td>\n",
       "      <td>Riverside Research Institute\\n3.6</td>\n",
       "      <td>Beavercreek, OH</td>\n",
       "      <td>Arlington, VA</td>\n",
       "      <td>501 to 1000 employees</td>\n",
       "      <td>1967</td>\n",
       "      <td>Nonprofit Organization</td>\n",
       "      <td>Federal Agencies</td>\n",
       "      <td>Government</td>\n",
       "      <td>$50 to $100 million (USD)</td>\n",
       "      <td>-1</td>\n",
       "    </tr>\n",
       "  </tbody>\n",
       "</table>\n",
       "</div>"
      ],
      "text/plain": [
       "     Unnamed: 0                                  Job Title  \\\n",
       "953         953                       Data Science Manager   \n",
       "954         954                              Data Engineer   \n",
       "955         955  Research Scientist – Security and Privacy   \n",
       "\n",
       "                 Salary Estimate  \\\n",
       "953  $95K-$160K (Glassdoor est.)   \n",
       "954                           -1   \n",
       "955  $61K-$126K (Glassdoor est.)   \n",
       "\n",
       "                                       Job Description  Rating  \\\n",
       "953  Data Science ManagerResponsibilities:\\n\\nOvers...     3.2   \n",
       "954  Loading...\\n\\nTitle: Data Engineer\\n\\nLocation...     4.8   \n",
       "955  Returning Candidate? Log back in to the Career...     3.6   \n",
       "\n",
       "                          Company Name         Location     Headquarters  \\\n",
       "953                  Numeric, LLC\\n3.2    Allentown, PA  Chadds Ford, PA   \n",
       "954                          IGNW\\n4.8       Austin, TX     Portland, OR   \n",
       "955  Riverside Research Institute\\n3.6  Beavercreek, OH    Arlington, VA   \n",
       "\n",
       "                      Size  Founded       Type of ownership  \\\n",
       "953      1 to 50 employees       -1       Company - Private   \n",
       "954   201 to 500 employees     2015       Company - Private   \n",
       "955  501 to 1000 employees     1967  Nonprofit Organization   \n",
       "\n",
       "                   Industry                  Sector  \\\n",
       "953  Staffing & Outsourcing       Business Services   \n",
       "954             IT Services  Information Technology   \n",
       "955        Federal Agencies              Government   \n",
       "\n",
       "                       Revenue Competitors  \n",
       "953    $5 to $10 million (USD)          -1  \n",
       "954   $25 to $50 million (USD)      Slalom  \n",
       "955  $50 to $100 million (USD)          -1  "
      ]
     },
     "execution_count": 13,
     "metadata": {},
     "output_type": "execute_result"
    }
   ],
   "source": [
    "df = pd.read_csv('C:/Users/tmost/Documents/Data-course/Salary/glassdoor_jobs.csv')\n",
    "df.tail(3)"
   ]
  },
  {
   "cell_type": "code",
   "execution_count": 12,
   "id": "048adada",
   "metadata": {},
   "outputs": [
    {
     "name": "stdout",
     "output_type": "stream",
     "text": [
      "<class 'pandas.core.frame.DataFrame'>\n",
      "RangeIndex: 956 entries, 0 to 955\n",
      "Data columns (total 15 columns):\n",
      " #   Column             Non-Null Count  Dtype  \n",
      "---  ------             --------------  -----  \n",
      " 0   Unnamed: 0         956 non-null    int64  \n",
      " 1   Job Title          956 non-null    object \n",
      " 2   Salary Estimate    956 non-null    object \n",
      " 3   Job Description    956 non-null    object \n",
      " 4   Rating             956 non-null    float64\n",
      " 5   Company Name       956 non-null    object \n",
      " 6   Location           956 non-null    object \n",
      " 7   Headquarters       956 non-null    object \n",
      " 8   Size               956 non-null    object \n",
      " 9   Founded            956 non-null    int64  \n",
      " 10  Type of ownership  956 non-null    object \n",
      " 11  Industry           956 non-null    object \n",
      " 12  Sector             956 non-null    object \n",
      " 13  Revenue            956 non-null    object \n",
      " 14  Competitors        956 non-null    object \n",
      "dtypes: float64(1), int64(2), object(12)\n",
      "memory usage: 112.2+ KB\n"
     ]
    }
   ],
   "source": [
    "df.info()"
   ]
  },
  {
   "cell_type": "code",
   "execution_count": 16,
   "id": "e6609433",
   "metadata": {},
   "outputs": [
    {
     "data": {
      "text/plain": [
       "Unnamed: 0           False\n",
       "Job Title            False\n",
       "Salary Estimate      False\n",
       "Job Description      False\n",
       "Rating               False\n",
       "Company Name         False\n",
       "Location             False\n",
       "Headquarters         False\n",
       "Size                 False\n",
       "Founded              False\n",
       "Type of ownership    False\n",
       "Industry             False\n",
       "Sector               False\n",
       "Revenue              False\n",
       "Competitors          False\n",
       "dtype: bool"
      ]
     },
     "execution_count": 16,
     "metadata": {},
     "output_type": "execute_result"
    }
   ],
   "source": [
    "df.isnull().any()"
   ]
  },
  {
   "cell_type": "markdown",
   "id": "3fe1e196",
   "metadata": {},
   "source": [
    "# Cleaning"
   ]
  },
  {
   "cell_type": "markdown",
   "id": "48039dd2",
   "metadata": {},
   "source": [
    "To do for data cleaning\n",
    "\n",
    "- Salary parsing\n",
    "\n",
    "- Company name text only\n",
    "\n",
    "- State Field \n",
    "\n",
    "- Age of company\n",
    "\n",
    "- parsing of job decription (python,etc)\n"
   ]
  },
  {
   "cell_type": "code",
   "execution_count": 21,
   "id": "8ca628b6",
   "metadata": {},
   "outputs": [],
   "source": [
    "df = df[df['Salary Estimate'] != '-1'] # out in '' as it is object"
   ]
  },
  {
   "cell_type": "code",
   "execution_count": 22,
   "id": "257e46b7",
   "metadata": {},
   "outputs": [
    {
     "data": {
      "text/plain": [
       "(742, 15)"
      ]
     },
     "execution_count": 22,
     "metadata": {},
     "output_type": "execute_result"
    }
   ],
   "source": [
    "df.shape"
   ]
  },
  {
   "cell_type": "code",
   "execution_count": 50,
   "id": "def969c6",
   "metadata": {},
   "outputs": [],
   "source": [
    "salary = df['Salary Estimate'].apply(lambda x: x.split('(')[0].strip())"
   ]
  },
  {
   "cell_type": "code",
   "execution_count": 42,
   "id": "63730c42",
   "metadata": {},
   "outputs": [
    {
     "data": {
      "text/plain": [
       "0     $53K-$91K\n",
       "1    $63K-$112K\n",
       "2     $80K-$90K\n",
       "3     $56K-$97K\n",
       "4    $86K-$143K\n",
       "Name: Salary Estimate, dtype: object"
      ]
     },
     "execution_count": 42,
     "metadata": {},
     "output_type": "execute_result"
    }
   ],
   "source": [
    "salary.head()"
   ]
  },
  {
   "cell_type": "code",
   "execution_count": 48,
   "id": "949ce792",
   "metadata": {},
   "outputs": [],
   "source": [
    "minus_kd = salary.apply(lambda x: x.replace('K','').replace('$',''))"
   ]
  },
  {
   "cell_type": "code",
   "execution_count": 49,
   "id": "ee41dde0",
   "metadata": {},
   "outputs": [
    {
     "data": {
      "text/plain": [
       "0     53-91\n",
       "1    63-112\n",
       "2     80-90\n",
       "3     56-97\n",
       "4    86-143\n",
       "Name: Salary Estimate, dtype: object"
      ]
     },
     "execution_count": 49,
     "metadata": {},
     "output_type": "execute_result"
    }
   ],
   "source": [
    "minus_kd.head()"
   ]
  },
  {
   "cell_type": "code",
   "execution_count": 51,
   "id": "d662a3cd",
   "metadata": {},
   "outputs": [],
   "source": [
    "df['hourly'] = df['Salary Estimate'].apply(lambda x: 1 if 'per hour' in x.lower() else 0)"
   ]
  },
  {
   "cell_type": "code",
   "execution_count": null,
   "id": "64eca1d7",
   "metadata": {},
   "outputs": [],
   "source": [
    "df['employer_provided'] = df['Salary Estimate'].apply(lambda x: 1 if 'employer provided salary' in x.lower() else 0)"
   ]
  },
  {
   "cell_type": "code",
   "execution_count": null,
   "id": "c14c3c73",
   "metadata": {},
   "outputs": [],
   "source": []
  },
  {
   "cell_type": "code",
   "execution_count": null,
   "id": "10108e96",
   "metadata": {},
   "outputs": [],
   "source": []
  }
 ],
 "metadata": {
  "kernelspec": {
   "display_name": "Python 3 (ipykernel)",
   "language": "python",
   "name": "python3"
  },
  "language_info": {
   "codemirror_mode": {
    "name": "ipython",
    "version": 3
   },
   "file_extension": ".py",
   "mimetype": "text/x-python",
   "name": "python",
   "nbconvert_exporter": "python",
   "pygments_lexer": "ipython3",
   "version": "3.10.11"
  }
 },
 "nbformat": 4,
 "nbformat_minor": 5
}
